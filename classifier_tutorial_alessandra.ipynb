{
 "cells": [
  {
   "cell_type": "markdown",
   "metadata": {},
   "source": [
    "# Introduction to the use of classifiers for neuroimaging\n",
    "\n",
    "In this notebook, we will break down the steps necessary to perform decoding analyses on brain data. We follow very closely the example at http://nilearn.github.io/auto_examples/decoding/plot_haxby_different_estimators.html#sphx-glr-auto-examples-decoding-plot-haxby-different-estimators-py\n",
    "\n",
    "It is structured in the form of a tutorial with instructions for each step. The solution to each step can be loaded into the next cell and compared to the work done by oneself.\n",
    "\n",
    "## Preliminaries\n",
    "It is good to assemble most imports of packages and settings at the top of the document. We will not be strict about this here, since we will discover some packages along the way, but let us take care of the essentials:\n",
    "\n",
    "Please do the following:\n",
    "1. Make sure plots will be inline by using the magic commande `matplotlib inline` to this effect\n",
    "2. Import `matplotlib.pyplot` and call it `plt` (for plotting)\n",
    "3. Import `numpy` and call it `np` (for all core calculations)\n",
    "4. Import `nibabel` (for loading and saving nifti-images)"
   ]
  },
  {
   "cell_type": "code",
   "execution_count": 1,
   "metadata": {
    "collapsed": false
   },
   "outputs": [],
   "source": []
  },
  {
   "cell_type": "code",
   "execution_count": 2,
   "metadata": {
    "collapsed": true
   },
   "outputs": [],
   "source": [
    "# %load preliminaries.py\n",
    "%matplotlib inline\n",
    "import matplotlib.pyplot as plt\n",
    "import numpy as np\n",
    "import nibabel\n",
    "\n"
   ]
  },
  {
   "cell_type": "markdown",
   "metadata": {},
   "source": [
    "## Obtaining and understanding the data\n",
    "\n",
    "We would like to use some neuroimaging data to test classifiers. For that we need to know where the data are, i.e. under which filenames they are stored and how to load and work with them.\n",
    "\n",
    "### The concept of the niimage\n",
    "In `nilearn`, we try to make data handling as easy as possible. While you can manually load nifti files and look inside them using `nibabel` (we will do this), `nilearn` accepts simple file paths to the data in almost all cases. When it receives a file path or a list of file paths, it knows it will need to load the file or files indicated.\n",
    "\n",
    "### The nilearn datasets\n",
    "Nilearn provides easy access to a variety of free, publicly available datasets. Helper functions are available to download them from the Internet. They are downloaded to a specific folder, and the filenames are listed in the output of the helper functions.\n",
    "\n",
    "Take a moment to discover the datasets via tab-completion:\n",
    "`from nilearn.datasets import <TAB>`\n",
    "\n",
    "Then import the function `fetch_haxby`. Use it to find the file specifies for 1 subject. Also opt to import the stimuli file paths."
   ]
  },
  {
   "cell_type": "code",
   "execution_count": 4,
   "metadata": {
    "collapsed": false
   },
   "outputs": [],
   "source": [
    "from nilearn.datasets import fetch_haxby"
   ]
  },
  {
   "cell_type": "code",
   "execution_count": 12,
   "metadata": {
    "collapsed": false
   },
   "outputs": [
    {
     "name": "stderr",
     "output_type": "stream",
     "text": [
      "Downloaded 291168628 of 291168628 bytes (100.00%,    0.0s remaining) ...done. (19 seconds, 0 min)\n",
      "Extracting data from /home/ubuntu/nilearn_data/haxby2001/d3b86f03f3d1f6570cc0d5b696a55a34/subj2-2010.01.14.tar.gz..."
     ]
    },
    {
     "name": "stdout",
     "output_type": "stream",
     "text": [
      "Downloading data from http://data.pymvpa.org/datasets/haxby2001/subj2-2010.01.14.tar.gz ...\n"
     ]
    },
    {
     "name": "stderr",
     "output_type": "stream",
     "text": [
      ".. done.\n"
     ]
    }
   ],
   "source": [
    "# %load fetch_data.py\n",
    "from nilearn.datasets import fetch_haxby\n",
    "\n",
    "haxby_data = fetch_haxby(n_subjects=2, fetch_stimuli=True)\n",
    "\n"
   ]
  },
  {
   "cell_type": "markdown",
   "metadata": {},
   "source": [
    "### Understanding nilearn data bunches\n",
    "\n",
    "Take a moment to explore the object `haxby_data`.\n",
    "\n",
    "1. First, print the description.\n",
    "2. Identify the file containing the BOLD functional MRI responses for subject 2 and put it in the variable `func_file`. Print the filename to the screen.\n",
    "3. Identify the experimental condition file indicating what the subject was seeing during all the sessions and put is in the variable `target_file`. Print the filename to the screen.\n"
   ]
  },
  {
   "cell_type": "code",
   "execution_count": 26,
   "metadata": {
    "collapsed": false
   },
   "outputs": [
    {
     "name": "stdout",
     "output_type": "stream",
     "text": [
      "/home/ubuntu/nilearn_data/haxby2001/subj2/bold.nii.gz\n",
      "/home/ubuntu/nilearn_data/haxby2001/subj2/bold.nii.gz\n",
      "/home/ubuntu/nilearn_data/haxby2001/subj2/labels.txt\n",
      "/home/ubuntu/nilearn_data/haxby2001/subj2/bold.nii.gz\n",
      "Haxby 2001 results\n",
      "\n",
      "\n",
      "Notes\n",
      "-----\n",
      "Results from a classical fMRI study that investigated the differences between\n",
      "the neural correlates of face versus object processing in the ventral visual\n",
      "stream. Face and object stimuli showed widely distributed and overlapping\n",
      "response patterns.\n",
      "\n",
      "Content\n",
      "-------\n",
      "The \"simple\" dataset includes\n",
      "    :'func': Nifti images with bold data\n",
      "    :'session_target': Text file containing session data\n",
      "    :'mask': Nifti images with employed mask\n",
      "    :'session': Text file with condition labels\n",
      "\n",
      "\n",
      "The full dataset additionally includes\n",
      "    :'anat': Nifti images with anatomical image\n",
      "    :'func': Nifti images with bold data\n",
      "    :'mask_vt': Nifti images with mask for ventral visual/temporal cortex\n",
      "    :'mask_face': Nifti images with face-reponsive brain regions\n",
      "    :'mask_house': Nifti images with house-reponsive brain regions\n",
      "    :'mask_face_little': Spatially more constrained version of the above\n",
      "    :'mask_house_little': Spatially more constrained version of the above\n",
      "\n",
      "\n",
      "References\n",
      "----------\n",
      "For more information see:\n",
      "PyMVPA provides a tutorial using this dataset :\n",
      "http://www.pymvpa.org/tutorial.html\n",
      "\n",
      "More informations about its structure :\n",
      "http://dev.pymvpa.org/datadb/haxby2001.html\n",
      "\n",
      "\n",
      "`Haxby, J., Gobbini, M., Furey, M., Ishai, A., Schouten, J.,\n",
      "and Pietrini, P. (2001). Distributed and overlapping representations of\n",
      "faces and objects in ventral temporal cortex. Science 293, 2425-2430.`\n",
      "\n",
      "\n",
      "Licence: unknown.\n",
      "\n"
     ]
    }
   ],
   "source": [
    "haxby_data.func\n",
    "sub2_func=haxby_data.func[1]\n",
    "print sub2_func\n",
    "func_file= sub2_func\n",
    "print func_file\n",
    "target_file= haxby_data.session_target[1]\n",
    "print target_file\n",
    "print sub2_func\n",
    "print (haxby_data.description)"
   ]
  },
  {
   "cell_type": "code",
   "execution_count": 95,
   "metadata": {
    "collapsed": false
   },
   "outputs": [
    {
     "name": "stdout",
     "output_type": "stream",
     "text": [
      "/home/ubuntu/nilearn_data/haxby2001/subj1/labels.txt\n",
      "/home/ubuntu/nilearn_data/haxby2001/subj1/bold.nii.gz\n"
     ]
    }
   ],
   "source": [
    "# %load print_file_names.py\n",
    "#print(haxby_data.description)\n",
    "func_file = haxby_data.func[0]\n",
    "target_file = haxby_data.session_target[0]\n",
    "\n",
    "print(target_file)\n",
    "print(func_file)\n",
    "\n"
   ]
  },
  {
   "cell_type": "markdown",
   "metadata": {},
   "source": [
    "### Taking a quick look at the files (optional)\n",
    "\n",
    "It is always good to have a feeling for what is actually inside the files that we are going to work with. How does the `target_file` actually contain the target? What does the functional file look like?\n",
    "\n",
    "Optionally, do the following:\n",
    "- for Mac and Linux users, take a look at the first 5 lines of the target file using `!head <FILE>` where `<FILE>`is to be replaced with the filename\n",
    "- for all users, write a simple python loop up to 5, printing each time a line of the file you have opened with `f = open(target_file)`.\n",
    "- Load the functional imaging file using `nibabel` and print its shape.\n",
    "\n",
    "- (Use the `mean_image` and `plot_stat_map` functionalities to get an idea of the functional images)"
   ]
  },
  {
   "cell_type": "code",
   "execution_count": 96,
   "metadata": {
    "collapsed": false
   },
   "outputs": [
    {
     "name": "stdout",
     "output_type": "stream",
     "text": [
      "labels chunks\n",
      "\n",
      "rest 0\n",
      "\n",
      "rest 0\n",
      "\n",
      "rest 0\n",
      "\n",
      "rest 0\n",
      "\n"
     ]
    }
   ],
   "source": [
    "f=open (target_file)\n",
    "for x in range (5): \n",
    "    print (f.readline())\n",
    "    "
   ]
  },
  {
   "cell_type": "code",
   "execution_count": 97,
   "metadata": {
    "collapsed": false
   },
   "outputs": [
    {
     "ename": "SyntaxError",
     "evalue": "invalid syntax (<ipython-input-97-582413bbea30>, line 4)",
     "output_type": "error",
     "traceback": [
      "\u001b[1;36m  File \u001b[1;32m\"<ipython-input-97-582413bbea30>\"\u001b[1;36m, line \u001b[1;32m4\u001b[0m\n\u001b[1;33m    np.\u001b[0m\n\u001b[1;37m       ^\u001b[0m\n\u001b[1;31mSyntaxError\u001b[0m\u001b[1;31m:\u001b[0m invalid syntax\n"
     ]
    }
   ],
   "source": [
    "!head /home/ubuntu/nilearn_data/haxby2001/subj2/labels.txt\n",
    "img = nibabel.load(func_file)\n",
    "print img.shape\n",
    "np.\n"
   ]
  },
  {
   "cell_type": "code",
   "execution_count": 46,
   "metadata": {
    "collapsed": false
   },
   "outputs": [
    {
     "name": "stdout",
     "output_type": "stream",
     "text": [
      "labels chunks\n",
      "\n",
      "rest 0\n",
      "\n",
      "rest 0\n",
      "\n",
      "rest 0\n",
      "\n",
      "rest 0\n",
      "\n",
      "(40, 64, 64, 1452)\n"
     ]
    }
   ],
   "source": [
    "# %load head_labels.py\n",
    "#!head /Users/admin/nilearn_data/haxby2001/subj1/labels.txt\n",
    "\n",
    "f = open(target_file)\n",
    "for i in range(5):\n",
    "    print(f.readline())\n",
    "    \n",
    "img = nibabel.load(func_file)\n",
    "print img.shape\n",
    "\n"
   ]
  },
  {
   "cell_type": "markdown",
   "metadata": {},
   "source": [
    "### Loading the target file into an array\n",
    "\n",
    "If you have visualized the first few lines of the target file, you will have seen that it is a two-column table, a so-called csv (comma-separated value) file. Except that here the separator is a space. Observe that the left-hand column contains numbers and the right-hand column contains words. The left-hand column indicates the **scanner run** in which a data point was acquired, whereas the right-hand column informs us about which **target image type** was shown or whether the subject was at rest.\n",
    "\n",
    "There are many ways to load this textfile into memory for further use. The goal is to have\n",
    "\n",
    "1. A list or an array named `labels` containing the words\n",
    "2. A list or an array named `runs` containing the indices of the scanner run\n",
    "\n",
    "Apart from opening the file by hand, here are some easy commands you can use. For some, you will need to specify that the columns are separated/delimited by spaces (keywords `delimiter` or `sep`):\n",
    "\n",
    "- `np.recfromcsv`\n",
    "- `pandas.read_csv`\n",
    "- `pandas.recfromtxt`"
   ]
  },
  {
   "cell_type": "code",
   "execution_count": 98,
   "metadata": {
    "collapsed": false
   },
   "outputs": [
    {
     "name": "stdout",
     "output_type": "stream",
     "text": [
      "['rest' 'rest' 'rest' ..., 'rest' 'rest' 'rest']\n"
     ]
    }
   ],
   "source": [
    "rec= np.recfromcsv (target_file, delimiter = ' ')\n",
    "labels = rec ['labels']\n",
    "runs = rec ['chunks']\n",
    "print(labels)"
   ]
  },
  {
   "cell_type": "raw",
   "metadata": {
    "collapsed": true
   },
   "source": [
    "# %load load_csv.py\n",
    "# first possibility\n",
    "rec = np.recfromcsv(target_file, delimiter=' ')\n",
    "labels = rec['labels']\n",
    "runs = rec['chunks']\n",
    "\n",
    "# second possibility\n",
    "import pandas\n",
    "csv = pandas.read_csv(target_file, sep=' ')\n",
    "labels = csv['labels'].values\n",
    "runs = rec['chunks']\n",
    "\n",
    "# third possibility\n",
    "arr = np.recfromtxt(target_file)\n",
    "\n",
    "print(labels)\n",
    "\n"
   ]
  },
  {
   "cell_type": "markdown",
   "metadata": {},
   "source": [
    "## Masking the neuroimaging data - the connection to scikit-learn\n",
    "\n",
    "Neuroimaging data of the brain is most often in volume form: One image is a 3D voxel-image. Since the relevant region is always inscribed in a cube of voxels, it is probable that many of the voxels do not interest us - either because they are outside the brain or outside a region of interest in the brain that we have specified. In order to restrict ourselves to the voxels that interest us, we have to mask.\n",
    "\n",
    "A mask is a binary image that contains a 1 for each position that we would like to keep and a 0 for each position we would like to discard.\n",
    "\n",
    "Since the shape we are masking doesn't necessarily have to be a cube, we do not order the result spatially anymore: We just enumerate the positions of interest, and these will appear as columns in the masked data.\n",
    "\n",
    "If we are masking several images at once (i.e. a 4D image e.g. (x, y, z, t)), then the result will be a table (2D array), each line of which is once masked 3D image. This format is perfect for use with scikit-learn, as we will see.\n",
    "\n",
    "### What if we don't have a mask, but would like to restrict ourselves to the brain?\n",
    "Glad you asked. This situation happens regularly and nilearn provides an elegant solution. If no mask is specified, the `NiftiMasker` can estimate it by itself and more often than not finds a good segmentation of brain/not-brain to continue with, in addition to bringing the data into the right format for scikit-learn.\n",
    "\n",
    "We will start by taking a look at how this works and by verifying the mask image afterwards.\n",
    "\n",
    "1. Import the `NiftiMasker` from `nilearn.input_data`\n",
    "2. Instantiate one of them and call it `masker`\n",
    "3. Fit the masker to the functional data by using its method `fit` and providing the functional data file.\n"
   ]
  },
  {
   "cell_type": "code",
   "execution_count": 99,
   "metadata": {
    "collapsed": false
   },
   "outputs": [
    {
     "data": {
      "text/plain": [
       "NiftiMasker(detrend=False, high_pass=None, low_pass=None, mask_args=None,\n",
       "      mask_img=None, mask_strategy='background',\n",
       "      memory=Memory(cachedir=None), memory_level=1, sample_mask=None,\n",
       "      sessions=None, smoothing_fwhm=None, standardize=False, t_r=None,\n",
       "      target_affine=None, target_shape=None, verbose=0)"
      ]
     },
     "execution_count": 99,
     "metadata": {},
     "output_type": "execute_result"
    }
   ],
   "source": [
    "from nilearn.input_data import NiftiMasker\n",
    "masker = NiftiMasker()\n",
    "masker.fit(func_file)\n",
    "\n"
   ]
  },
  {
   "cell_type": "code",
   "execution_count": 100,
   "metadata": {
    "collapsed": false
   },
   "outputs": [
    {
     "name": "stdout",
     "output_type": "stream",
     "text": [
      "/home/ubuntu/nilearn_data/haxby2001/subj1/bold.nii.gz\n"
     ]
    }
   ],
   "source": [
    "print (func_file)"
   ]
  },
  {
   "cell_type": "code",
   "execution_count": 120,
   "metadata": {
    "collapsed": false
   },
   "outputs": [
    {
     "data": {
      "text/plain": [
       "NiftiMasker(detrend=False, high_pass=None, low_pass=None, mask_args=None,\n",
       "      mask_img=None, mask_strategy='background',\n",
       "      memory=Memory(cachedir=None), memory_level=1, sample_mask=None,\n",
       "      sessions=None, smoothing_fwhm=None, standardize=False, t_r=None,\n",
       "      target_affine=None, target_shape=None, verbose=0)"
      ]
     },
     "execution_count": 120,
     "metadata": {},
     "output_type": "execute_result"
    }
   ],
   "source": [
    "# %load naive_masker.py\n",
    "from nilearn.input_data import NiftiMasker\n",
    "masker = NiftiMasker()\n",
    "masker.fit(func_file)\n",
    "\n"
   ]
  },
  {
   "cell_type": "markdown",
   "metadata": {},
   "source": [
    "Now let us check what type of mask the `NiftiMasker` has found for us:\n",
    "\n",
    "1. Retrieve the data from the mask image, which can be found in `masker.mask_img_` by calling `get_data` on it and saving the result in the variable `mask`.\n",
    "2. Take a look at the shape of the mask by printing it\n",
    "3. Use `plt.matshow` to show e.g. slice number 20 of the mask (`mask[20]`)\n",
    "4. Import the function `plot_roi` from `nilearn.plotting`. Use it to plot the `masker.mask_img_` directly. Use the option `bg_img=None`."
   ]
  },
  {
   "cell_type": "code",
   "execution_count": 123,
   "metadata": {
    "collapsed": false
   },
   "outputs": [
    {
     "name": "stdout",
     "output_type": "stream",
     "text": [
      "(40, 64, 64)\n"
     ]
    },
    {
     "data": {
      "text/plain": [
       "<nilearn.plotting.displays.OrthoSlicer at 0x7fed64dc85d0>"
      ]
     },
     "execution_count": 123,
     "metadata": {},
     "output_type": "execute_result"
    },
    {
     "data": {
      "image/png": "[encoded data removed]",
      "text/plain": [
       "<matplotlib.figure.Figure at 0x7fed64f56d90>"
      ]
     },
     "metadata": {},
     "output_type": "display_data"
    },
    {
     "data": {
      "image/png": "[encoded data removed]",
      "text/plain": [
       "<matplotlib.figure.Figure at 0x7fed64eacfd0>"
      ]
     },
     "metadata": {},
     "output_type": "display_data"
    }
   ],
   "source": [
    "mask= masker.mask_img_.get_data()\n",
    "print(mask.shape)\n",
    "plt.matshow(mask[20])\n",
    "\n",
    "from nilearn.plotting import plot_roi\n",
    "plot_roi(masker.mask_img_, bg_img = None)"
   ]
  },
  {
   "cell_type": "code",
   "execution_count": null,
   "metadata": {
    "collapsed": false
   },
   "outputs": [],
   "source": [
    "# %load show_naive_mask.py\n",
    "mask = masker.mask_img_.get_data()\n",
    "print(mask.shape)\n",
    "plt.matshow(mask[20])\n",
    "\n",
    "from nilearn.plotting import plot_roi\n",
    "plot_roi(masker.mask_img_, bg_img=None)\n",
    "\n"
   ]
  },
  {
   "cell_type": "markdown",
   "metadata": {},
   "source": [
    "Weird, huh? Where is the brain? Doesn't seem that this masking went too well. As a matter of fact, here we have a case of failed masking. The best strategy to separate brain voxels from non-brain-voxels actually highly depends on the type of brain data that is input. The default setting for the masker is set such that certain brain maps out of SPM are segmented correctly. That is not the case here, so we need to switch the masking strategy:\n",
    "\n",
    "1. Reinstantiate the masker specifying the keyword `mask_strategy='epi'`\n",
    "2. Redo the same things as above."
   ]
  },
  {
   "cell_type": "code",
   "execution_count": 127,
   "metadata": {
    "collapsed": false
   },
   "outputs": [
    {
     "name": "stdout",
     "output_type": "stream",
     "text": [
      "(40, 64, 64)\n"
     ]
    },
    {
     "data": {
      "text/plain": [
       "<nilearn.plotting.displays.OrthoSlicer at 0x7fed64ee74d0>"
      ]
     },
     "execution_count": 127,
     "metadata": {},
     "output_type": "execute_result"
    },
    {
     "data": {
      "image/png": "[encoded data removed]",
      "text/plain": [
       "<matplotlib.figure.Figure at 0x7fed3e2f6c50>"
      ]
     },
     "metadata": {},
     "output_type": "display_data"
    },
    {
     "data": {
      "image/png": "[encoded data removed]",
      "text/plain": [
       "<matplotlib.figure.Figure at 0x7fed3a91f710>"
      ]
     },
     "metadata": {},
     "output_type": "display_data"
    }
   ],
   "source": [
    "masker = NiftiMasker(mask_strategy = 'epi')\n",
    "masker.fit(func_file)\n",
    "mask = masker.mask_img_.get_data()\n",
    "print(mask.shape)\n",
    "plt.matshow(mask[20])\n",
    "\n",
    "from nilearn.plotting import plot_roi\n",
    "plot_roi(masker.mask_img_, bg_img=None)"
   ]
  },
  {
   "cell_type": "code",
   "execution_count": null,
   "metadata": {
    "collapsed": false
   },
   "outputs": [],
   "source": [
    "# %load better_mask.py\n",
    "masker = NiftiMasker(mask_strategy='epi')\n",
    "masker.fit(func_file)\n",
    "\n",
    "mask = masker.mask_img_.get_data()\n",
    "print(mask.shape)\n",
    "plt.matshow(mask[20])\n",
    "\n",
    "plot_roi(masker.mask_img_)\n",
    "\n"
   ]
  },
  {
   "cell_type": "markdown",
   "metadata": {},
   "source": [
    "That should look more like a sagittal cut of a brain.\n",
    "\n",
    "Now that we have found a useful mask, we can use it to mask the brain image:\n",
    "\n",
    "1. Use the method `transform` of the masker to transform the functional file and call the result `X_full`"
   ]
  },
  {
   "cell_type": "code",
   "execution_count": 130,
   "metadata": {
    "collapsed": false
   },
   "outputs": [],
   "source": [
    "X_full =masker.transform (func_file)"
   ]
  },
  {
   "cell_type": "code",
   "execution_count": 132,
   "metadata": {
    "collapsed": true
   },
   "outputs": [],
   "source": [
    "# %load full_transform.py\n",
    "X_full = masker.transform(func_file)\n"
   ]
  },
  {
   "cell_type": "markdown",
   "metadata": {},
   "source": [
    "### Masking with a given mask\n",
    "However, in many cases we may know exactly what mask we want to use. In this case, it should be specified at the instantiation of the mask.\n",
    "\n",
    "1. Find the mask of the ventral-temporal region (`mask_vt`) in the `haxby_data` bunch and instantiate a masker with it.\n",
    "2. Mask the functional data using this mask and store the result in the variable `X`. You can use the method `fit_transform` to this effect.\n",
    "3. Show the mask using `plot_roi`"
   ]
  },
  {
   "cell_type": "code",
   "execution_count": 139,
   "metadata": {
    "collapsed": false
   },
   "outputs": [
    {
     "data": {
      "text/plain": [
       "<nilearn.plotting.displays.OrthoSlicer at 0x7fed3a5f2dd0>"
      ]
     },
     "execution_count": 139,
     "metadata": {},
     "output_type": "execute_result"
    },
    {
     "data": {
      "image/png": "[encoded data removed]",
      "text/plain": [
       "<matplotlib.figure.Figure at 0x7fed64c49bd0>"
      ]
     },
     "metadata": {},
     "output_type": "display_data"
    }
   ],
   "source": [
    "masker= NiftiMasker(haxby_data.mask_vt[0])\n",
    "X= masker.fit_transform (func_file)\n",
    "\n",
    "plot_roi(masker.mask_img_)"
   ]
  },
  {
   "cell_type": "code",
   "execution_count": null,
   "metadata": {
    "collapsed": true
   },
   "outputs": [],
   "source": [
    "# %load mask_ventral.py\n",
    "masker = NiftiMasker(haxby_data.mask_vt[0])\n",
    "X = masker.fit_transform(func_file)\n",
    "\n",
    "plot_roi(masker.mask_img_)\n",
    "\n"
   ]
  },
  {
   "cell_type": "markdown",
   "metadata": {},
   "source": [
    "## Multi-class classification\n",
    "\n",
    "Now let us turn to the task of predicting the type of stimulus presented to the subject. Take a look at the array `labels` which you created earlier.\n",
    "\n",
    "Specifically, determine the unique elements it contains in order to have an idea what the categories are that are presented. You can use the function `np.unique` on `labels` to do this."
   ]
  },
  {
   "cell_type": "code",
   "execution_count": 140,
   "metadata": {
    "collapsed": false
   },
   "outputs": [
    {
     "data": {
      "text/plain": [
       "array(['bottle', 'cat', 'chair', 'face', 'house', 'rest', 'scissors',\n",
       "       'scrambledpix', 'shoe'], \n",
       "      dtype='|S12')"
      ]
     },
     "execution_count": 140,
     "metadata": {},
     "output_type": "execute_result"
    }
   ],
   "source": [
    "np.unique (labels)"
   ]
  },
  {
   "cell_type": "code",
   "execution_count": null,
   "metadata": {
    "collapsed": true
   },
   "outputs": [],
   "source": [
    "# %load unique_labels.py\n",
    "np.unique(labels)\n",
    "\n"
   ]
  },
  {
   "cell_type": "markdown",
   "metadata": {},
   "source": [
    "You will realize that there is a category `rest`, during which the subject did not look at anything. We would like to discard this condition. Before we do this, print the shapes of `X` and `labels` and observe that they correspond on the first axis:"
   ]
  },
  {
   "cell_type": "code",
   "execution_count": 148,
   "metadata": {
    "collapsed": false
   },
   "outputs": [
    {
     "name": "stdout",
     "output_type": "stream",
     "text": [
      "(1452, 577)\n",
      "(1452,)\n"
     ]
    }
   ],
   "source": [
    "print (X.shape)\n",
    "print (labels.shape)"
   ]
  },
  {
   "cell_type": "code",
   "execution_count": null,
   "metadata": {
    "collapsed": true
   },
   "outputs": [],
   "source": [
    "# %load print_shapes.py\n",
    "print(X.shape)\n",
    "print(labels.shape)\n",
    "\n"
   ]
  },
  {
   "cell_type": "markdown",
   "metadata": {},
   "source": [
    "This means that for each line of `X` (i.e. each masked brain image), there is exactly one corresponding label.\n",
    "\n",
    "We would like to now remove the brain images corresponding to resting state and also the labels corresponding to resting state in order to keep the sizes of the array the same. In order to do this, first create an array identifying all labels that correspond to resting state. \n",
    "\n",
    "1. Create this array and call it `resting_state`. Take a look at it.\n",
    "2. Then use this array to index `X` and `labels` such that they contain everything but resting state. For this, you may find it useful to negate `resting_state`, by using e.g. `np.logical_not(resting_state)` or simply `~resting_state`. Make sure you call the results `Xtask` and `ytask` respectively."
   ]
  },
  {
   "cell_type": "code",
   "execution_count": 152,
   "metadata": {
    "collapsed": false,
    "scrolled": false
   },
   "outputs": [],
   "source": [
    "resting_state = labels =='rest'\n",
    "Xtask = X[~resting_state]\n",
    "ytask = labels[~resting_state]\n",
    "                        "
   ]
  },
  {
   "cell_type": "code",
   "execution_count": null,
   "metadata": {
    "collapsed": true
   },
   "outputs": [],
   "source": [
    "# %load mask_resting_state.py\n",
    "resting_state = labels == 'rest'\n",
    "Xtask = X[~resting_state]\n",
    "ytask = labels[np.logical_not(resting_state)]\n",
    "\n"
   ]
  },
  {
   "cell_type": "markdown",
   "metadata": {},
   "source": [
    "### Trying out SVM\n",
    "\n",
    "We now proceed to our first classification. To this end, we will use a standard, linear support vector machine. In order to use it, you first need to import the relevant scikit-learn estimator by importing `SVC` from `sklearn.svm`"
   ]
  },
  {
   "cell_type": "code",
   "execution_count": 155,
   "metadata": {
    "collapsed": false
   },
   "outputs": [],
   "source": [
    "from sklearn.svm import SVC"
   ]
  },
  {
   "cell_type": "code",
   "execution_count": null,
   "metadata": {
    "collapsed": true
   },
   "outputs": [],
   "source": [
    "# %load import_svm.py\n",
    "from sklearn.svm import SVC\n",
    "\n"
   ]
  },
  {
   "cell_type": "markdown",
   "metadata": {},
   "source": [
    "### Evaluation of machine learning algorithms\n",
    "\n",
    "We could train our SVM on all of the data. But the question arises as to how we would evaluate whether it works well or not. In the context of statistical learning, evaluation is always done on data that the model has never seen. In order to be able to do this, we need to hold back some data. We could do this by hand, for example by deciding to train on half the data.\n",
    "\n",
    "Optional: Divide the data in half by using `Xdata[0:Xdata.shape[0] / 2]` and calling it `Xtrain` and the other half `Xdata[Xdata.shape[0] / 2:]`, which you will call `Xtest`. Do the same for the labels."
   ]
  },
  {
   "cell_type": "code",
   "execution_count": 160,
   "metadata": {
    "collapsed": false
   },
   "outputs": [],
   "source": [
    "Xtrain= Xtask[0:Xtask.shape[0] / 2]\n",
    "Xtest = Xtask[Xtask.shape[0] / 2:]\n",
    "ytrain = ytask[0:ytask.shape[0]/2]\n",
    "ytest = ytask[Xtask.shape[0] / 2:]\n"
   ]
  },
  {
   "cell_type": "code",
   "execution_count": null,
   "metadata": {
    "collapsed": true
   },
   "outputs": [],
   "source": [
    "# %load split_half_data.py\n",
    "Xtrain = Xtask[0:Xtask.shape[0] / 2]\n",
    "Xtest = Xtask[Xtask.shape[0] / 2:]\n",
    "ytrain = ytask[0:Xtask.shape[0] / 2]\n",
    "ytest = ytask[Xtask.shape[0] / 2:]\n",
    "\n"
   ]
  },
  {
   "cell_type": "markdown",
   "metadata": {},
   "source": [
    "Maybe we do not want to divide our data in half. Maybe we would like to keep a different size test set. Since data splitting is a very common necessity, scikit-learn has many utilities to do this, of which we will see a few.\n",
    "\n",
    "1. import the function `train_test_split` from `sklearn.cross_validation`\n",
    "2. use it to divide both `Xtask` and `ytask` into train and test sets. By using the keyword `stratify=True`, you can make sure that the proportions of labels stay the same in train and test sets"
   ]
  },
  {
   "cell_type": "code",
   "execution_count": 161,
   "metadata": {
    "collapsed": false
   },
   "outputs": [
    {
     "name": "stderr",
     "output_type": "stream",
     "text": [
      "/home/ubuntu/venv/src/scikit-learn/sklearn/cross_validation.py:43: DeprecationWarning: This module has been deprecated in favor of the model_selection module into which all the refactored classes and functions are moved. Also note that the interface of the new CV iterators are different from that of this module. This module will be removed in 0.20.\n",
      "  \"This module will be removed in 0.20.\", DeprecationWarning)\n"
     ]
    }
   ],
   "source": [
    "from sklearn.cross_validation import train_test_split"
   ]
  },
  {
   "cell_type": "code",
   "execution_count": null,
   "metadata": {
    "collapsed": true
   },
   "outputs": [],
   "source": [
    "# %load train_test_split.py\n",
    "from sklearn.cross_validation import train_test_split\n",
    "Xtrain, Xtest, ytrain, ytest = train_test_split(Xtask, ytask) #, stratify=True)\n",
    "\n"
   ]
  },
  {
   "cell_type": "markdown",
   "metadata": {},
   "source": [
    "We can now proceed to training an SVM.\n",
    "\n",
    "1. Create an SVM object by calling `SVC(kernel='linear')` and calling it `svm`\n",
    "2. Train the svm object by calling the method `fit` with the arguments `Xtrain, ytrain`"
   ]
  },
  {
   "cell_type": "code",
   "execution_count": 164,
   "metadata": {
    "collapsed": false
   },
   "outputs": [
    {
     "data": {
      "text/plain": [
       "SVC(C=1.0, cache_size=200, class_weight=None, coef0=0.0,\n",
       "  decision_function_shape=None, degree=3, gamma='auto', kernel='linear',\n",
       "  max_iter=-1, probability=False, random_state=None, shrinking=True,\n",
       "  tol=0.001, verbose=False)"
      ]
     },
     "execution_count": 164,
     "metadata": {},
     "output_type": "execute_result"
    }
   ],
   "source": [
    "svm = SVC(kernel='linear')\n",
    "svm.fit (Xtrain, ytrain)"
   ]
  },
  {
   "cell_type": "code",
   "execution_count": null,
   "metadata": {
    "collapsed": true
   },
   "outputs": [],
   "source": [
    "# %load train_svm_simple.py\n",
    "svm = SVC(kernel='linear')\n",
    "svm.fit(Xtrain, ytrain)\n",
    "\n"
   ]
  },
  {
   "cell_type": "markdown",
   "metadata": {},
   "source": [
    "Now let's test it on our test data. How do we go about this? Since we are in a predictive context, let's use the SVM to predict the labels of the test set.\n",
    "\n",
    "Call the method `predict` of the `svm` object and give it `Xtest` as an argument. Store the predictions in an array `ypredict`."
   ]
  },
  {
   "cell_type": "code",
   "execution_count": null,
   "metadata": {
    "collapsed": false
   },
   "outputs": [],
   "source": []
  },
  {
   "cell_type": "code",
   "execution_count": 90,
   "metadata": {
    "collapsed": true
   },
   "outputs": [],
   "source": [
    "# %load predict_svm_simple.py"
   ]
  },
  {
   "cell_type": "markdown",
   "metadata": {},
   "source": [
    "Now that we have the predictions, we need to somehow compare them to the actual labels and draw some conclusions. The simplest possible scoring method is accuracy score, in which we just evaluate the fraction of correct predictions. We can create an array indicating whether each prediction is correct by using the comparison operator `==`: Check out the array `ytest == ypredict` and take its mean by calling the method `mean` on it. Call the result `score` and take a look at it."
   ]
  },
  {
   "cell_type": "code",
   "execution_count": null,
   "metadata": {
    "collapsed": false
   },
   "outputs": [],
   "source": []
  },
  {
   "cell_type": "code",
   "execution_count": 92,
   "metadata": {
    "collapsed": true
   },
   "outputs": [],
   "source": [
    "# %load calculate_accuracy_simple.py"
   ]
  },
  {
   "cell_type": "markdown",
   "metadata": {},
   "source": [
    "### Cross-validation\n",
    "\n",
    "Now we have obtained one score for our classifier by holding out some data, training the classifier and predicting the target labels of the held-out data. We then looked at the fraction of correctly predicted labels. If this fraction is high, it can mean that our predictor is good. But note that it is not sufficient to state this score alone for several reasons:\n",
    "\n",
    "1. Imagine you have 90 labels of one type and 10 of another. Then you can obtain 90% accuracy just by always predicting the first label. 90% is then called *chance level* and you have to do better in order to be able to conclude that your classifier actually does something. If the labels are evenly distributed into N classes, then the chance level lies at 1/N. For example, for two balanced classes it is 50%\n",
    "\n",
    "2. What if we had split the data differently? Would we obtain similar scores? The answer is *hopefully*, because if not, then interpretation becomes difficult. In any case, one should evaluate at least 5 or more of these train/test splits and look at the average scores as well as how much they spread around this average.\n",
    "\n",
    "\n",
    "Assuming a balanced distribution of labels, we will concentrate now on solving the second issue. Again, since this is a very common setting in machine learning, scikit-learn provides many tools to do several train/test splits. Splitting several times and evaluating is called **cross-validation**.\n",
    "\n",
    "1. Import the function `cross_val_score` from the scikit-learn module `sklearn.cross_validation`\n",
    "2. Use this function to split the data 10 times by calling it with the svm, the `Xtask` and `ytask` data. Store the result in `scores`.\n",
    "3. print the scores\n",
    "\n",
    "\n"
   ]
  },
  {
   "cell_type": "code",
   "execution_count": null,
   "metadata": {
    "collapsed": false
   },
   "outputs": [],
   "source": []
  },
  {
   "cell_type": "code",
   "execution_count": 94,
   "metadata": {
    "collapsed": true
   },
   "outputs": [],
   "source": [
    "# %load one_cross_validation.py"
   ]
  },
  {
   "cell_type": "markdown",
   "metadata": {},
   "source": [
    "We can now analyse these scores by taking the mean using `np.mean`. In order to evaluate the spread around the mean, also take a look at the standard deviation using `np.std`"
   ]
  },
  {
   "cell_type": "code",
   "execution_count": null,
   "metadata": {
    "collapsed": false
   },
   "outputs": [],
   "source": []
  },
  {
   "cell_type": "code",
   "execution_count": null,
   "metadata": {
    "collapsed": true
   },
   "outputs": [],
   "source": [
    "# %load mean_std_scores.py"
   ]
  },
  {
   "cell_type": "markdown",
   "metadata": {},
   "source": [
    "## Exercise: Evaluating several classifiers on the same data.\n",
    "\n",
    "Open the example http://nilearn.github.io/auto_examples/decoding/plot_haxby_different_estimators.html in your browser. Read the code and identify what you have already achieved by doing this notebook (start at the second section). Then follow up by implementing a loop over several classifiers in order to compare them on these data. If there is time, proceed to the visualization section.\n",
    "\n",
    "Bonus: Check out the estimators `sklearn.linear_model.Lasso` and `sklearn.ensemble.RandomForest`"
   ]
  },
  {
   "cell_type": "code",
   "execution_count": 102,
   "metadata": {
    "collapsed": false
   },
   "outputs": [
    {
     "data": {
      "text/plain": [
       "<nilearn.plotting.displays.OrthoSlicer at 0x10d23d850>"
      ]
     },
     "execution_count": 102,
     "metadata": {},
     "output_type": "execute_result"
    },
    {
     "data": {
      "image/png": "[encoded data removed]",
      "text/plain": [
       "<matplotlib.figure.Figure at 0x10ad628d0>"
      ]
     },
     "metadata": {},
     "output_type": "display_data"
    },
    {
     "data": {
      "image/png": "[encoded data removed]",
      "text/plain": [
       "<matplotlib.figure.Figure at 0x10a4ff210>"
      ]
     },
     "metadata": {},
     "output_type": "display_data"
    }
   ],
   "source": [
    "from nilearn.plotting import plot_roi\n",
    "\n",
    "masker = NiftiMasker()\n",
    "masker.fit(func_file)\n",
    "plot_roi(masker.mask_img_)\n",
    "masker = NiftiMasker(mask_strategy='epi')\n",
    "masker.fit(func_file)\n",
    "plot_roi(masker.mask_img_)"
   ]
  },
  {
   "cell_type": "code",
   "execution_count": null,
   "metadata": {
    "collapsed": true
   },
   "outputs": [],
   "source": []
  }
 ],
 "metadata": {
  "kernelspec": {
   "display_name": "Python 2",
   "language": "python",
   "name": "python2"
  },
  "language_info": {
   "codemirror_mode": {
    "name": "ipython",
    "version": 2
   },
   "file_extension": ".py",
   "mimetype": "text/x-python",
   "name": "python",
   "nbconvert_exporter": "python",
   "pygments_lexer": "ipython2",
   "version": "2.7.6"
  }
 },
 "nbformat": 4,
 "nbformat_minor": 0
}
